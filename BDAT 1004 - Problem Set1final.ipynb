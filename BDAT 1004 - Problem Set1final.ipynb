{
 "cells": [
  {
   "cell_type": "markdown",
   "id": "80ac348a-a890-43bc-9cb0-9b49c0f79be4",
   "metadata": {},
   "source": [
    "# Question 1\n",
    "\n",
    "Data Types"
   ]
  },
  {
   "cell_type": "code",
   "execution_count": 10,
   "id": "93d8c2c7-7608-4925-a495-14c7e731faf8",
   "metadata": {},
   "outputs": [
    {
     "name": "stdout",
     "output_type": "stream",
     "text": [
      "5 <class 'int'>\n",
      "5.0 <class 'float'>\n",
      "True <class 'bool'>\n",
      "5 <class 'str'>\n",
      "10 <class 'int'>\n",
      "55 <class 'str'>\n",
      "52 <class 'str'>\n",
      "2.5 <class 'float'>\n",
      "1 <class 'int'>\n",
      "{1, 2, 5} <class 'set'>\n",
      "False <class 'bool'>\n",
      "3.141592653589793 <class 'float'>\n"
     ]
    }
   ],
   "source": [
    "a = 5\n",
    "print (a, type(a))\n",
    "b = 5.0\n",
    "print(b, type(b)) \n",
    "c = 5 > 1\n",
    "print(c, type(c))\n",
    "d = '5'\n",
    "print(d, type(d)) \n",
    "e = 5 * 2\n",
    "print(e, type(e)) \n",
    "f = '5' * 2\n",
    "print(f, type(f))\n",
    "g = '5' + '2'\n",
    "print(g, type(g))\n",
    "h = 5 / 2\n",
    "print(h, type(h)) \n",
    "i = 5 % 2\n",
    "print(i, type(i))\n",
    "j = {5, 2, 1}\n",
    "print(j, type(j))\n",
    "k = 5 == 3\n",
    "print(k, type(k))\n",
    "import math\n",
    "l = math.pi\n",
    "print(l, type(l))"
   ]
  },
  {
   "cell_type": "markdown",
   "id": "2757ac7d-d993-47fd-8434-36a6370fa286",
   "metadata": {},
   "source": [
    "# Question 2\n",
    "\n",
    "Python Expressions"
   ]
  },
  {
   "cell_type": "code",
   "execution_count": 166,
   "id": "aa32eb80-ddcc-48b4-87d0-832d8274a1cd",
   "metadata": {},
   "outputs": [
    {
     "name": "stdout",
     "output_type": "stream",
     "text": [
      "34\n",
      "True\n",
      "Supercalifragilisticexpialidocious\n",
      "Bartok\n",
      "Buxtehude\n"
     ]
    }
   ],
   "source": [
    "#Part A\n",
    "a = 'Supercalifragilisticexpialidocious'\n",
    "print (len(a))\n",
    "\n",
    "#Part B\n",
    "b = 'ice' in 'Supercalifragilisticexpialidocious' \n",
    "print (b)\n",
    "\n",
    "#Part C\n",
    "word1 = 'Supercalifragilisticexpialidocious'\n",
    "word2 = 'Honorificabilitudinitatibus'\n",
    "word3 = 'Bababadalgharaghtakamminarronnkonn'\n",
    "longest_word = max(word1, word2, word3, key=len)\n",
    "c = longest_word\n",
    "print (c)\n",
    "\n",
    "#Part D\n",
    "composers = ['Berlioz', 'Borodin', 'Brian', 'Bartok', 'Bellini', 'Buxtehude', 'Bernstein']\n",
    "\n",
    "first_composer = min(composers)\n",
    "last_composer = max(composers)\n",
    "\n",
    "d1 = first_composer\n",
    "d2 = last_composer\n",
    "\n",
    "print(d1)\n",
    "print(d2)"
   ]
  },
  {
   "cell_type": "markdown",
   "id": "795c50a7-e67b-40c6-915b-07b106e3e0fd",
   "metadata": {},
   "source": [
    "# Question 3\n",
    "\n",
    "Implementing Function Triangle Area"
   ]
  },
  {
   "cell_type": "code",
   "execution_count": 109,
   "id": "908637f9-9227-4a57-b4dc-955a29d7e4b3",
   "metadata": {},
   "outputs": [
    {
     "name": "stdout",
     "output_type": "stream",
     "text": [
      "1.7320508075688772\n"
     ]
    }
   ],
   "source": [
    "def triangleArea(a, b, c):\n",
    "    \n",
    "    s = (a + b + c) / 2\n",
    "    \n",
    "    area = (s * (s - a) * (s - b) * (s - c)) ** 0.5\n",
    "    \n",
    "    return area\n",
    "\n",
    "\n",
    "print(triangleArea(2, 2, 2))\n"
   ]
  },
  {
   "cell_type": "markdown",
   "id": "33aef7ba-e71a-40ef-b5d2-1e85ed930600",
   "metadata": {},
   "source": [
    "# Question 4 \n",
    "\n",
    "Python program to seperate odd and even integers in seperate arrays"
   ]
  },
  {
   "cell_type": "code",
   "execution_count": 2,
   "id": "814cf6fc-6673-472a-96bb-c0818d56b701",
   "metadata": {},
   "outputs": [
    {
     "name": "stdin",
     "output_type": "stream",
     "text": [
      "Input the number of elements to be stored in the array:  5\n",
      "element - 0 :  25\n",
      "element - 1 :  47\n",
      "element - 2 :  42\n",
      "element - 3 :  56\n",
      "element - 4 :  32\n"
     ]
    },
    {
     "name": "stdout",
     "output_type": "stream",
     "text": [
      "The Even elements are:\n",
      "42 56 32 \n",
      "The Odd elements are:\n",
      "25 47 "
     ]
    }
   ],
   "source": [
    "def separate_odd_even(numbers):\n",
    "    even = []\n",
    "    odd = []\n",
    "    \n",
    "    for num in numbers:\n",
    "        if num % 2 == 0:\n",
    "            even.append(num)\n",
    "        else:\n",
    "            odd.append(num)\n",
    "    \n",
    "    return even, odd\n",
    "\n",
    "# Input\n",
    "n = int(input(\"Input the number of elements to be stored in the array: \"))\n",
    "numbers = []\n",
    "\n",
    "for i in range(n):\n",
    "    element = int(input(f\"element - {i} : \"))\n",
    "    numbers.append(element)\n",
    "\n",
    "\n",
    "even, odd = separate_odd_even(numbers)\n",
    "\n",
    "# Output\n",
    "print(\"The Even elements are:\")\n",
    "for num in even:\n",
    "    print(num, end=\" \")\n",
    "\n",
    "print(\"\\nThe Odd elements are:\")\n",
    "for num in odd:\n",
    "    print(num, end=\" \")\n"
   ]
  },
  {
   "cell_type": "markdown",
   "id": "cba90988-f662-415a-ab28-8e6c88dcd579",
   "metadata": {},
   "source": [
    "# Question 5\n",
    "\n",
    "Inside Function"
   ]
  },
  {
   "cell_type": "code",
   "execution_count": 164,
   "id": "1a2a8fdb-5086-45e1-932c-75ec6274c9c1",
   "metadata": {},
   "outputs": [
    {
     "name": "stdout",
     "output_type": "stream",
     "text": [
      "True\n",
      "False\n",
      "False\n"
     ]
    }
   ],
   "source": [
    "#Part A\n",
    "def inside(x, y, x1, y1, x2, y2):\n",
    "    return x1 <= x <= x2 and y1 <= y <= y2\n",
    "\n",
    "\n",
    "a = inside(1, 1, 0, 0, 2, 3)\n",
    "print(a)\n",
    "\n",
    "\n",
    "b = inside(-1, -1, 0, 0, 2, 3)\n",
    "print(b)\n",
    "\n",
    "\n",
    "#Part B\n",
    "\n",
    "rect1 = inside(1, 1, 0.3, 0.5, 1.1, 0.7)\n",
    "rect2 = inside(1, 1, 0.5, 0.2, 1.1, 2)\n",
    "\n",
    "print(rect1 and rect2)\n"
   ]
  },
  {
   "cell_type": "markdown",
   "id": "a9f1cd28-190c-4ed6-9d96-a52de21270ea",
   "metadata": {},
   "source": [
    "# Question 6\n",
    "\n",
    "Python (if) Function on pig-Latin"
   ]
  },
  {
   "cell_type": "code",
   "execution_count": 174,
   "id": "41f414bc-05da-4e41-9010-d29e20190a4a",
   "metadata": {},
   "outputs": [
    {
     "name": "stdout",
     "output_type": "stream",
     "text": [
      "appyhay\n",
      "enterway\n"
     ]
    }
   ],
   "source": [
    "\n",
    "def pig(word):\n",
    "    word = word.lower()\n",
    "    \n",
    "    if word[0] in 'aeiou':\n",
    "        return word + 'way'\n",
    "    else:\n",
    "        return word[1:] + word[0] + 'ay'\n",
    "\n",
    "\n",
    "result = pig('happy')\n",
    "print(result)\n",
    "\n",
    "result = pig('Enter')\n",
    "print(result)\n"
   ]
  },
  {
   "cell_type": "markdown",
   "id": "b31bcb23-88a5-44a0-826e-c2d751e66d00",
   "metadata": {},
   "source": [
    "# Question 7\n",
    "\n",
    "Python function on (bloodtype.txt) "
   ]
  },
  {
   "cell_type": "code",
   "execution_count": 59,
   "id": "1f0e8ada-ec4c-46d8-8e59-6b0d0964de67",
   "metadata": {},
   "outputs": [
    {
     "name": "stdout",
     "output_type": "stream",
     "text": [
      "There are 15 patients of blood type A.\n",
      "There is one patient of blood type B.\n",
      "There are 13 patients of blood type AB.\n",
      "There are 15 patients of blood type O.\n",
      "There are no patients of blood type OO.\n"
     ]
    }
   ],
   "source": [
    "# Count Function\n",
    "def bldcount(filename):\n",
    "   \n",
    "    blood_types = {'A': 0, 'B': 0, 'AB': 0, 'O': 0, 'OO': 0}\n",
    "\n",
    "# Read Function\n",
    "    with open(filename, 'r') as file: \n",
    "        # Read the blood types as a single string and split into a list, handling extra spaces or new lines\n",
    "        blood_data = file.read().strip().split()\n",
    "\n",
    "    # Step 3: Count occurrences of each blood type\n",
    "    for blood_type in blood_data:\n",
    "        if blood_type in blood_types:\n",
    "            blood_types[blood_type] += 1\n",
    "\n",
    "    # Step 4: Print the results in the required format\n",
    "    for blood_type, count in blood_types.items():\n",
    "        if count == 0: print(f\"There are no patients of blood type {blood_type}.\")\n",
    "        elif count == 1: print(f\"There is one patient of blood type {blood_type}.\")\n",
    "        else:print(f\"There are {count} patients of blood type {blood_type}.\")\n",
    "\n",
    "\n",
    "bldcount('bloodtype1.txt')"
   ]
  },
  {
   "cell_type": "markdown",
   "id": "ab744aeb-272f-4af3-ab28-c2e1e5390ec0",
   "metadata": {},
   "source": [
    "# Question 8\n",
    "\n",
    "Python function on Currency Conversion (currencies.txt)"
   ]
  },
  {
   "cell_type": "code",
   "execution_count": 72,
   "id": "48fea676-17ee-49b3-ac9e-814a0af6c3d0",
   "metadata": {},
   "outputs": [
    {
     "name": "stdout",
     "output_type": "stream",
     "text": [
      "122.96544\n",
      "1.241401\n"
     ]
    }
   ],
   "source": [
    "\n",
    "def curconv(currency, amount):\n",
    "    \n",
    "    with open('currencies.txt', 'r') as file:\n",
    "        lines = file.readlines()\n",
    "\n",
    "    # Currency Dictionary\n",
    "    currency_rates = {}\n",
    "\n",
    "    # Currency Code & Rates\n",
    "    for line in lines:\n",
    "        parts = line.split()\n",
    "        code = parts[0]\n",
    "        rate = float(parts[1])\n",
    "        currency_rates[code] = rate\n",
    "\n",
    "    # Currency Conversion\n",
    "    if currency in currency_rates:\n",
    "        return amount * currency_rates[currency]\n",
    "    else:\n",
    "        return \"Currency not found.\"\n",
    "\n",
    "print(curconv('EUR', 100))\n",
    "print(curconv('JPY', 100))\n"
   ]
  },
  {
   "cell_type": "markdown",
   "id": "bef16a10-4bd1-4358-b3e6-225c5307c735",
   "metadata": {},
   "source": [
    "# Question 9 \n",
    "\n",
    "Exception Identifaction"
   ]
  },
  {
   "cell_type": "markdown",
   "id": "7c5a29d7-ab82-42cd-8d32-2024eac7f4e2",
   "metadata": {},
   "source": [
    "\n",
    "1. 6 + 'a' = TypeError\n",
    "\n",
    "\n",
    "2. Accessing the 12th item of a list with 10 items = IndexError\n",
    "\n",
    "3. math.sqrt(-1.0) = ValueError\n",
    "\n",
    "4. print(x)' when x is undeclared =  NameError\n",
    "\n",
    "5. Trying to open a file that does not exist, such as mistyping the file name or looking in the wrong directory = FileNotFoundError\n"
   ]
  },
  {
   "cell_type": "markdown",
   "id": "69f7acfd-3945-4791-a8a2-6395944ef162",
   "metadata": {},
   "source": [
    "# Question 10\n",
    "\n",
    "Encryption Exercise"
   ]
  },
  {
   "cell_type": "code",
   "execution_count": 104,
   "id": "9071df2e-14ee-4d05-8673-6027bc02d67e",
   "metadata": {},
   "outputs": [
    {
     "name": "stdout",
     "output_type": "stream",
     "text": [
      "[1, 1, 1, 3, 5, 1, 1, 2, 1, 0, 1, 0, 1, 2, 4, 0, 1, 2, 0, 3, 1, 0, 1, 1, 0, 0]\n",
      "[1, 0, 0, 0, 1, 0, 0, 0, 0, 0, 0, 1, 0, 0, 0, 2, 0, 0, 0, 0, 0, 0, 0, 0, 0, 0]\n"
     ]
    }
   ],
   "source": [
    "def frequencies(text):\n",
    "    # String\n",
    "    letters = 'abcdefghijklmnopqrstuvwxyz'\n",
    "    \n",
    "    # Alphabet = 26 letters\n",
    "    freq = [0] * 26\n",
    "    \n",
    "    text = text.lower()\n",
    "    \n",
    "    for char in text:\n",
    "        if char in letters:\n",
    "            index = letters.index(char)  \n",
    "            freq[index] += 1\n",
    "\n",
    "    return freq\n",
    "\n",
    "\n",
    "print(frequencies('The quick red fox got bored and went home.'))\n",
    "print(frequencies('apple'))\n"
   ]
  }
 ],
 "metadata": {
  "kernelspec": {
   "display_name": "Python 3 (ipykernel)",
   "language": "python",
   "name": "python3"
  },
  "language_info": {
   "codemirror_mode": {
    "name": "ipython",
    "version": 3
   },
   "file_extension": ".py",
   "mimetype": "text/x-python",
   "name": "python",
   "nbconvert_exporter": "python",
   "pygments_lexer": "ipython3",
   "version": "3.12.4"
  }
 },
 "nbformat": 4,
 "nbformat_minor": 5
}
